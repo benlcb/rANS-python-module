{
 "cells": [
  {
   "cell_type": "code",
   "execution_count": null,
   "metadata": {},
   "outputs": [],
   "source": [
    "try:\n",
    "    import librANSCoder\n",
    "except:\n",
    "    pass\n",
    "import pyrANS\n",
    "import numpy as np\n",
    "import scipy.special as sps\n",
    "\n",
    "BITDEPTH = 12\n",
    "PROB_BITS = 14 # Resolution of the Probabilities (i.e. the smallest difference between two probabilities being 1/2**PROB_BITS)\n",
    "NUM_SYMS = 4000"
   ]
  },
  {
   "cell_type": "code",
   "execution_count": null,
   "metadata": {},
   "outputs": [],
   "source": [
    "# Generating Random Symbols between 0 and 2**BITDEPTH\n",
    "syms = np.random.randint(0,2**BITDEPTH,NUM_SYMS)\n",
    "# Generating Random Probability Distributions with values between 0 and 2**PROB_BITS\n",
    "probs = np.random.randint(0,2**PROB_BITS,(NUM_SYMS,2**BITDEPTH))\n",
    "# The PDF has to sum up to 1, so we normalize it.\n",
    "probs_norm = sps.softmax(probs, 1)"
   ]
  },
  {
   "cell_type": "code",
   "execution_count": null,
   "metadata": {},
   "outputs": [],
   "source": [
    "# Create and initialize Encoder Instance\n",
    "MyEn = pyrANS.pyrANS()\n",
    "MyEn.init_ec()\n",
    "\n",
    "# Encode the Symbols\n",
    "for i in range(NUM_SYMS):\n",
    "    MyEn.encode_sym(np.uint32(syms[i]), probs_norm[i])"
   ]
  },
  {
   "cell_type": "code",
   "execution_count": null,
   "metadata": {},
   "outputs": [],
   "source": [
    "# Create Decoder Instance \n",
    "MyDe = pyrANS.pyrANS()\n",
    "# Load the data stream into the decoder\n",
    "MyDe.init_dc(MyEn.get_ec_buf())\n",
    "# Allocate space for the output\n",
    "decoded_syms = np.zeros(NUM_SYMS)"
   ]
  },
  {
   "cell_type": "code",
   "execution_count": null,
   "metadata": {},
   "outputs": [],
   "source": [
    "# Decode the symbols in reversed order \n",
    "for i in range(NUM_SYMS-1,-1,-1):\n",
    "    decoded_syms[i] = MyDe.decode_sym(probs_norm[i])"
   ]
  },
  {
   "cell_type": "code",
   "execution_count": null,
   "metadata": {},
   "outputs": [],
   "source": [
    "# Compare encoded and decoded symbols. If this doesn't print any output, everything worked.\n",
    "for i in range(NUM_SYMS):\n",
    "    if decoded_syms[i] != syms[i]:\n",
    "        print(str(i) + \":\" + str(decoded_syms[i]) + \" != \" + str(syms[i]))"
   ]
  },
  {
   "cell_type": "code",
   "execution_count": null,
   "metadata": {},
   "outputs": [],
   "source": [
    "# This is how you access the encoded datastream\n",
    "MyEn.get_ec_buf()"
   ]
  },
  {
   "cell_type": "code",
   "execution_count": null,
   "metadata": {},
   "outputs": [],
   "source": []
  },
  {
   "cell_type": "code",
   "execution_count": null,
   "metadata": {},
   "outputs": [],
   "source": []
  },
  {
   "cell_type": "code",
   "execution_count": null,
   "metadata": {},
   "outputs": [],
   "source": []
  }
 ],
 "metadata": {
  "kernelspec": {
   "display_name": "Python 3",
   "language": "python",
   "name": "python3"
  },
  "language_info": {
   "codemirror_mode": {
    "name": "ipython",
    "version": 3
   },
   "file_extension": ".py",
   "mimetype": "text/x-python",
   "name": "python",
   "nbconvert_exporter": "python",
   "pygments_lexer": "ipython3",
   "version": "3.8.5"
  }
 },
 "nbformat": 4,
 "nbformat_minor": 4
}
